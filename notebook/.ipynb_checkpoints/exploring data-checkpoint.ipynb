{
 "cells": [
  {
   "cell_type": "code",
   "execution_count": 1,
   "metadata": {},
   "outputs": [],
   "source": [
    "import os\n",
    "import matplotlib.pyplot as plt\n",
    "from scipy.misc import imread\n",
    "import numpy as np\n",
    "\n",
    "%matplotlib notebook"
   ]
  },
  {
   "cell_type": "code",
   "execution_count": 2,
   "metadata": {},
   "outputs": [
    {
     "data": {
      "text/plain": [
       "['Masks_v3',\n",
       " 'Labels',\n",
       " 'Original_Images_v3',\n",
       " 'Masks_Seg_v3',\n",
       " 'Mask_Labeled_Full_Modified',\n",
       " 'Mask_Labeled_Wound_3Class',\n",
       " 'Mask_Labeled_Tissue']"
      ]
     },
     "execution_count": 2,
     "metadata": {},
     "output_type": "execute_result"
    }
   ],
   "source": [
    "data_path = os.path.join(os.getcwd(), '..', 'data')\n",
    "os.listdir(data_path)"
   ]
  },
  {
   "cell_type": "code",
   "execution_count": 3,
   "metadata": {},
   "outputs": [],
   "source": [
    "def get_all_classes_and_counts(images):\n",
    "    d = dict()\n",
    "    for i in images:\n",
    "        for j in i:\n",
    "            for k in j:\n",
    "                if k not in d:\n",
    "                    d[k] = 1\n",
    "                else:\n",
    "                    d[k]+=1\n",
    "    return nd"
   ]
  },
  {
   "cell_type": "code",
   "execution_count": 16,
   "metadata": {},
   "outputs": [],
   "source": [
    "def get_classes_and_counts(image, images, show=True):\n",
    "    '''\n",
    "    Function that gets all the different classes and counts for the given image\n",
    "\n",
    "    Inputs:\n",
    "    image: An image\n",
    "    images: A stack of images\n",
    "    show: Boolean. if set to True, it will print out the outputs\n",
    "\n",
    "    Output:\n",
    "    returns a dictionary containing the classes and their respective counts\n",
    "    '''\n",
    "\n",
    "    # TODO Add feature to take in unlabeled image\n",
    "    d = dict()\n",
    "    for i in images:\n",
    "        for j in i:\n",
    "            for k in j:\n",
    "                if k not in d:\n",
    "                    d[k] = 0\n",
    "\n",
    "    for i in image:\n",
    "        for j in i:\n",
    "            d[j] += 1\n",
    "    if show:\n",
    "        print(\"Image size : {}. \\n Number of different classes and their counts for the image is given as {}\".format(\n",
    "            image.shape, d))\n",
    "        \n",
    "    return d"
   ]
  },
  {
   "cell_type": "code",
   "execution_count": 3,
   "metadata": {},
   "outputs": [],
   "source": [
    "def get_all_pixel_levels(images):\n",
    "    temp = []\n",
    "    for i in images:\n",
    "        for j in i:\n",
    "            for k in j:\n",
    "                if k not in temp:\n",
    "                    temp.append(k)\n",
    "    temp.sort()\n",
    "    return temp"
   ]
  },
  {
   "cell_type": "code",
   "execution_count": 4,
   "metadata": {},
   "outputs": [],
   "source": [
    "def get_pixel_levels(image):\n",
    "    temp = []\n",
    "    for i in image:\n",
    "        for j in i:\n",
    "#             print(\"i\", i)\n",
    "            if j not in temp:\n",
    "                temp.append(j)\n",
    "    temp.sort()\n",
    "    return temp"
   ]
  },
  {
   "cell_type": "code",
   "execution_count": 5,
   "metadata": {},
   "outputs": [],
   "source": [
    "def get_stats(images, names, num):\n",
    "    print(\"Total number of images: {}\".format(len(images)))\n",
    "    print(\"Image shape: {}\".format(images[num].shape))\n",
    "    print(\"max pixel value: {}\".format(np.max(images[num])))\n",
    "    print(\"min pixel value: {}\".format(np.min(images[num])))\n",
    "    \n",
    "    print(\"++++++++++++++++++++++++++++++++++++++++++++++++\")\n",
    "    print(\"Showing image: {}\".format(names[num]))\n",
    "    plt.imshow(images[num])"
   ]
  },
  {
   "cell_type": "code",
   "execution_count": 6,
   "metadata": {},
   "outputs": [],
   "source": [
    "num = 1"
   ]
  },
  {
   "cell_type": "code",
   "execution_count": 18,
   "metadata": {},
   "outputs": [
    {
     "name": "stdout",
     "output_type": "stream",
     "text": [
      "Image size : (480, 640). \n",
      " Number of different classes and their counts for the image is given as {0: 125181, 1: 79985, 2: 0, 3: 0, 4: 99360, 5: 0, 6: 2674, 7: 0, 8: 0}\n"
     ]
    }
   ],
   "source": [
    "d = get_classes_and_counts(mask_labeled_full_modified[num], mask_labeled_full_modified)"
   ]
  },
  {
   "cell_type": "code",
   "execution_count": 19,
   "metadata": {},
   "outputs": [
    {
     "name": "stdout",
     "output_type": "stream",
     "text": [
      "{0: 125181, 1: 79985, 2: 0, 3: 0, 4: 99360, 5: 0, 6: 2674, 7: 0, 8: 0}\n"
     ]
    },
    {
     "data": {
      "image/png": "[encoded data removed]",
      "text/plain": [
       "<Figure size 432x288 with 1 Axes>"
      ]
     },
     "metadata": {},
     "output_type": "display_data"
    }
   ],
   "source": [
    "%matplotlib inline\n",
    "print(d)\n",
    "plt.bar(list(d.keys()),list(d.values()), alpha = 0.7, color = 'green')\n",
    "plt.grid(True)\n",
    "plt.show()"
   ]
  },
  {
   "cell_type": "code",
   "execution_count": 114,
   "metadata": {
    "scrolled": false
   },
   "outputs": [
    {
     "name": "stdout",
     "output_type": "stream",
     "text": [
      "{0: 31439907, 1: 53644205, 2: 4574453, 3: 2338059, 4: 4332525, 5: 1721260, 6: 3144643, 7: 1051618, 8: 972530}\n"
     ]
    },
    {
     "data": {
      "image/png": "[encoded data removed]",
      "text/plain": [
       "<Figure size 432x288 with 1 Axes>"
      ]
     },
     "metadata": {},
     "output_type": "display_data"
    }
   ],
   "source": [
    "%matplotlib inline\n",
    "print(d)\n",
    "plt.bar(list(d.keys()),list(d.values()), alpha = 0.7, color = 'green')\n",
    "plt.grid(True)\n",
    "plt.show()"
   ]
  },
  {
   "cell_type": "markdown",
   "metadata": {},
   "source": [
    "# Masks_v3"
   ]
  },
  {
   "cell_type": "code",
   "execution_count": 7,
   "metadata": {},
   "outputs": [],
   "source": [
    "masks_v3_path = os.path.join(data_path, 'Masks_v3')\n",
    "masks_v3_names = os.listdir(masks_v3_path)\n",
    "masks_v3_names.sort(key = lambda x:int(x.split('_')[-1].split('.')[0]))\n",
    "masks_v3 = [imread(os.path.join(masks_v3_path, x)) for x in masks_v3_names]"
   ]
  },
  {
   "cell_type": "code",
   "execution_count": 8,
   "metadata": {},
   "outputs": [
    {
     "name": "stdout",
     "output_type": "stream",
     "text": [
      "Total number of images: 336\n",
      "Image shape: (480, 640, 3)\n",
      "max pixel value: 1.0\n",
      "min pixel value: 0.0\n",
      "++++++++++++++++++++++++++++++++++++++++++++++++\n",
      "Showing image: Mask_1.png\n"
     ]
    },
    {
     "data": {
      "image/png": "[encoded data removed]",
      "text/plain": [
       "<Figure size 432x288 with 1 Axes>"
      ]
     },
     "metadata": {},
     "output_type": "display_data"
    }
   ],
   "source": [
    "get_stats(masks_v3, masks_v3_names,num)"
   ]
  },
  {
   "cell_type": "markdown",
   "metadata": {},
   "source": [
    "# Masks_Seg_v3"
   ]
  },
  {
   "cell_type": "code",
   "execution_count": 6,
   "metadata": {},
   "outputs": [],
   "source": [
    "masks_seg_v3_path = os.path.join(data_path, 'Masks_Seg_v3')\n",
    "masks_seg_v3_names = os.listdir(masks_seg_v3_path)\n",
    "masks_seg_v3_names.sort(key = lambda x:int(x.split('_')[-1].split('.')[0]))\n",
    "masks_seg_v3 = [imread(os.path.join(masks_seg_v3_path, x)) for x in masks_seg_v3_names]"
   ]
  },
  {
   "cell_type": "code",
   "execution_count": 10,
   "metadata": {},
   "outputs": [
    {
     "name": "stdout",
     "output_type": "stream",
     "text": [
      "Total number of images: 336\n",
      "Image shape: (480, 640, 3)\n",
      "max pixel value: 1.0\n",
      "min pixel value: 0.0\n",
      "++++++++++++++++++++++++++++++++++++++++++++++++\n",
      "Showing image: SegMask_1.png\n"
     ]
    },
    {
     "data": {
      "image/png": "[encoded data removed]",
      "text/plain": [
       "<Figure size 432x288 with 1 Axes>"
      ]
     },
     "metadata": {},
     "output_type": "display_data"
    }
   ],
   "source": [
    "get_stats(masks_seg_v3,masks_seg_v3_names, num)"
   ]
  },
  {
   "cell_type": "markdown",
   "metadata": {},
   "source": [
    "# Mask_Labeled_Full_Modified"
   ]
  },
  {
   "cell_type": "code",
   "execution_count": 7,
   "metadata": {},
   "outputs": [
    {
     "name": "stderr",
     "output_type": "stream",
     "text": [
      "/home/renjie/anaconda3/lib/python3.6/site-packages/ipykernel_launcher.py:4: DeprecationWarning: `imread` is deprecated!\n",
      "`imread` is deprecated in SciPy 1.0.0, and will be removed in 1.2.0.\n",
      "Use ``imageio.imread`` instead.\n",
      "  after removing the cwd from sys.path.\n"
     ]
    }
   ],
   "source": [
    "mask_labeled_full_modified_path = os.path.join(data_path, 'Mask_Labeled_Full_Modified')\n",
    "mask_labeled_full_modified_names = os.listdir(mask_labeled_full_modified_path)\n",
    "mask_labeled_full_modified_names.sort(key = lambda x:int(x.split('_')[-1].split('.')[0]))\n",
    "mask_labeled_full_modified = [imread(os.path.join(mask_labeled_full_modified_path, x)) for x in mask_labeled_full_modified_names]"
   ]
  },
  {
   "cell_type": "code",
   "execution_count": 8,
   "metadata": {},
   "outputs": [],
   "source": [
    "num = 0"
   ]
  },
  {
   "cell_type": "code",
   "execution_count": 9,
   "metadata": {
    "scrolled": true
   },
   "outputs": [
    {
     "name": "stdout",
     "output_type": "stream",
     "text": [
      "Total number of images: 336\n",
      "Image shape: (480, 640)\n",
      "max pixel value: 8\n",
      "min pixel value: 0\n",
      "++++++++++++++++++++++++++++++++++++++++++++++++\n",
      "Showing image: Mask_1.png\n"
     ]
    },
    {
     "data": {
      "image/png": "[encoded data removed]",
      "text/plain": [
       "<Figure size 432x288 with 1 Axes>"
      ]
     },
     "metadata": {},
     "output_type": "display_data"
    }
   ],
   "source": [
    "get_stats(mask_labeled_full_modified,mask_labeled_full_modified_names, num)"
   ]
  },
  {
   "cell_type": "code",
   "execution_count": 17,
   "metadata": {},
   "outputs": [
    {
     "name": "stdout",
     "output_type": "stream",
     "text": [
      "Image size : (480, 640). \n",
      " Number of different classes and their counts for the image is given as {0: 151700, 8: 52530, 5: 26928, 1: 72935, 7: 3008, 6: 99, 4: 0, 3: 0, 2: 0}\n"
     ]
    },
    {
     "data": {
      "text/plain": [
       "{0: 151700, 1: 72935, 2: 0, 3: 0, 4: 0, 5: 26928, 6: 99, 7: 3008, 8: 52530}"
      ]
     },
     "execution_count": 17,
     "metadata": {},
     "output_type": "execute_result"
    }
   ],
   "source": [
    "get_classes_and_counts(mask_labeled_full_modified[num], mask_labeled_full_modified)"
   ]
  },
  {
   "cell_type": "code",
   "execution_count": 10,
   "metadata": {},
   "outputs": [
    {
     "name": "stdout",
     "output_type": "stream",
     "text": [
      "pixel levels : [0, 1, 5, 6, 7, 8]\n"
     ]
    },
    {
     "data": {
      "image/png": "[encoded data removed]",
      "text/plain": [
       "<Figure size 432x288 with 1 Axes>"
      ]
     },
     "metadata": {},
     "output_type": "display_data"
    }
   ],
   "source": [
    "%matplotlib inline\n",
    "print(\"pixel levels : {}\".format(get_pixel_levels(mask_labeled_full_modified[num])))\n",
    "plt.plot(range(len(get_pixel_levels(mask_labeled_full_modified[num]))), get_pixel_levels(mask_labeled_full_modified[num]))\n",
    "plt.show()"
   ]
  },
  {
   "cell_type": "code",
   "execution_count": 14,
   "metadata": {},
   "outputs": [
    {
     "name": "stdout",
     "output_type": "stream",
     "text": [
      "all pixels lvl for mask_labeled_full_modified: [0.0, 0.003921569, 0.007843138, 0.011764706, 0.015686275, 0.019607844, 0.023529412, 0.02745098, 0.03137255]\n"
     ]
    }
   ],
   "source": [
    "print(\"all pixels lvl for {}: {}\".format(\"mask_labeled_full_modified\", get_all_pixel_levels(mask_labeled_full_modified)))"
   ]
  },
  {
   "cell_type": "code",
   "execution_count": 15,
   "metadata": {},
   "outputs": [],
   "source": [
    "all_pixel_levels_full = get_all_pixel_levels(mask_labeled_full_modified)"
   ]
  },
  {
   "cell_type": "code",
   "execution_count": 16,
   "metadata": {},
   "outputs": [
    {
     "name": "stdout",
     "output_type": "stream",
     "text": [
      "9\n",
      "[0.0, 0.003921569, 0.007843138, 0.011764706, 0.015686275, 0.019607844, 0.023529412, 0.02745098, 0.03137255]\n"
     ]
    },
    {
     "data": {
      "image/png": "[encoded data removed]",
      "text/plain": [
       "<Figure size 432x288 with 1 Axes>"
      ]
     },
     "metadata": {},
     "output_type": "display_data"
    }
   ],
   "source": [
    "%matplotlib inline\n",
    "plt.plot(range(len(all_pixel_levels_full)), all_pixel_levels_full)\n",
    "print(len(all_pixel_levels_full))\n",
    "print(all_pixel_levels_full)\n",
    "plt.show()"
   ]
  },
  {
   "cell_type": "markdown",
   "metadata": {},
   "source": [
    "# Mask_Labeled_Wound_3Class"
   ]
  },
  {
   "cell_type": "code",
   "execution_count": 17,
   "metadata": {},
   "outputs": [],
   "source": [
    "mask_labeled_wound_3class_path = os.path.join(data_path, 'Mask_Labeled_Wound_3Class')\n",
    "mask_labeled_wound_3class_names = os.listdir(mask_labeled_wound_3class_path)\n",
    "mask_labeled_wound_3class_names.sort(key = lambda x:int(x.split('_')[-1].split('.')[0]))\n",
    "mask_labeled_wound_3class = [imread(os.path.join(mask_labeled_wound_3class_path, x)) for x in mask_labeled_wound_3class_names]"
   ]
  },
  {
   "cell_type": "code",
   "execution_count": 18,
   "metadata": {
    "scrolled": false
   },
   "outputs": [
    {
     "name": "stdout",
     "output_type": "stream",
     "text": [
      "Total number of images: 336\n",
      "Image shape: (480, 640)\n",
      "max pixel value: 0.003921568859368563\n",
      "min pixel value: 0.0\n",
      "++++++++++++++++++++++++++++++++++++++++++++++++\n",
      "Showing image: SegMask_1.png\n"
     ]
    },
    {
     "data": {
      "image/png": "[encoded data removed]",
      "text/plain": [
       "<Figure size 432x288 with 1 Axes>"
      ]
     },
     "metadata": {},
     "output_type": "display_data"
    }
   ],
   "source": [
    "get_stats(mask_labeled_wound_3class,mask_labeled_wound_3class_names, num)"
   ]
  },
  {
   "cell_type": "code",
   "execution_count": 19,
   "metadata": {
    "scrolled": true
   },
   "outputs": [
    {
     "name": "stdout",
     "output_type": "stream",
     "text": [
      "pixel levels : [0.0, 0.003921569]\n"
     ]
    },
    {
     "data": {
      "image/png": "[encoded data removed]",
      "text/plain": [
       "<Figure size 432x288 with 1 Axes>"
      ]
     },
     "metadata": {},
     "output_type": "display_data"
    }
   ],
   "source": [
    "%matplotlib inline\n",
    "print(\"pixel levels : {}\".format(get_pixel_levels(mask_labeled_wound_3class[num])))\n",
    "plt.plot(range(len(get_pixel_levels(mask_labeled_wound_3class[num]))), \n",
    "         get_pixel_levels(mask_labeled_wound_3class[num]))\n",
    "plt.show()"
   ]
  },
  {
   "cell_type": "code",
   "execution_count": 20,
   "metadata": {},
   "outputs": [],
   "source": [
    "all_pixel_levels_full = get_all_pixel_levels(mask_labeled_wound_3class)"
   ]
  },
  {
   "cell_type": "code",
   "execution_count": 21,
   "metadata": {},
   "outputs": [
    {
     "name": "stdout",
     "output_type": "stream",
     "text": [
      "2\n",
      "[0.0, 0.003921569]\n"
     ]
    },
    {
     "data": {
      "image/png": "[encoded data removed]",
      "text/plain": [
       "<Figure size 432x288 with 1 Axes>"
      ]
     },
     "metadata": {},
     "output_type": "display_data"
    }
   ],
   "source": [
    "%matplotlib inline\n",
    "plt.plot(range(len(all_pixel_levels_full)), all_pixel_levels_full)\n",
    "print(len(all_pixel_levels_full))\n",
    "print(all_pixel_levels_full)\n",
    "plt.show()"
   ]
  },
  {
   "cell_type": "markdown",
   "metadata": {},
   "source": [
    "# Mask_Labeled_Tissue"
   ]
  },
  {
   "cell_type": "code",
   "execution_count": 22,
   "metadata": {},
   "outputs": [],
   "source": [
    "mask_labeled_tissue_path = os.path.join(data_path, 'Mask_Labeled_Tissue')\n",
    "mask_labeled_tissue_names = os.listdir(mask_labeled_tissue_path)\n",
    "mask_labeled_tissue_names.sort(key = lambda x:int(x.split('_')[-1].split('.')[0]))\n",
    "mask_labeled_tissue = [imread(os.path.join(mask_labeled_tissue_path, x)) for x in mask_labeled_tissue_names]"
   ]
  },
  {
   "cell_type": "code",
   "execution_count": 23,
   "metadata": {},
   "outputs": [
    {
     "name": "stdout",
     "output_type": "stream",
     "text": [
      "Total number of images: 336\n",
      "Image shape: (480, 640)\n",
      "max pixel value: 0.0313725508749485\n",
      "min pixel value: 0.0\n",
      "++++++++++++++++++++++++++++++++++++++++++++++++\n",
      "Showing image: Mask_1.png\n"
     ]
    },
    {
     "data": {
      "image/png": "[encoded data removed]",
      "text/plain": [
       "<Figure size 432x288 with 1 Axes>"
      ]
     },
     "metadata": {},
     "output_type": "display_data"
    }
   ],
   "source": [
    "get_stats(mask_labeled_tissue,mask_labeled_tissue_names, num)"
   ]
  },
  {
   "cell_type": "code",
   "execution_count": 24,
   "metadata": {},
   "outputs": [
    {
     "name": "stdout",
     "output_type": "stream",
     "text": [
      "pixel levels : [0.0, 0.003921569, 0.019607844, 0.023529412, 0.02745098, 0.03137255]\n"
     ]
    },
    {
     "data": {
      "image/png": "[encoded data removed]",
      "text/plain": [
       "<Figure size 432x288 with 1 Axes>"
      ]
     },
     "metadata": {},
     "output_type": "display_data"
    }
   ],
   "source": [
    "%matplotlib inline\n",
    "print(\"pixel levels : {}\".format(get_pixel_levels(mask_labeled_tissue[num])))\n",
    "plt.plot(range(len(get_pixel_levels(mask_labeled_tissue[num]))), \n",
    "         get_pixel_levels(mask_labeled_tissue[num]))\n",
    "plt.show()"
   ]
  },
  {
   "cell_type": "code",
   "execution_count": 25,
   "metadata": {},
   "outputs": [],
   "source": [
    "all_pixel_levels_full = get_all_pixel_levels(mask_labeled_tissue)"
   ]
  },
  {
   "cell_type": "code",
   "execution_count": 26,
   "metadata": {},
   "outputs": [
    {
     "name": "stdout",
     "output_type": "stream",
     "text": [
      "9\n",
      "[0.0, 0.003921569, 0.007843138, 0.011764706, 0.015686275, 0.019607844, 0.023529412, 0.02745098, 0.03137255]\n"
     ]
    },
    {
     "data": {
      "image/png": "[encoded data removed]",
      "text/plain": [
       "<Figure size 432x288 with 1 Axes>"
      ]
     },
     "metadata": {},
     "output_type": "display_data"
    }
   ],
   "source": [
    "%matplotlib inline\n",
    "plt.plot(range(len(all_pixel_levels_full)), all_pixel_levels_full)\n",
    "print(len(all_pixel_levels_full))\n",
    "print(all_pixel_levels_full)\n",
    "plt.show()"
   ]
  },
  {
   "cell_type": "code",
   "execution_count": null,
   "metadata": {},
   "outputs": [],
   "source": []
  },
  {
   "cell_type": "code",
   "execution_count": 27,
   "metadata": {},
   "outputs": [
    {
     "name": "stdout",
     "output_type": "stream",
     "text": [
      "they are all equal\n",
      "they are all equal\n",
      "they are all equal\n",
      "they are all equal\n",
      "they are all equal\n",
      "they are all equal\n",
      "they are all equal\n",
      "they are all equal\n",
      "they are all equal\n",
      "they are all equal\n",
      "they are all equal\n",
      "they are all equal\n",
      "they are all equal\n",
      "they are all equal\n",
      "they are all equal\n",
      "they are all equal\n",
      "they are all equal\n",
      "they are all equal\n",
      "they are all equal\n",
      "they are all equal\n",
      "they are all equal\n",
      "they are all equal\n",
      "they are all equal\n",
      "they are all equal\n",
      "they are all equal\n",
      "they are all equal\n",
      "they are all equal\n",
      "they are all equal\n",
      "they are all equal\n",
      "they are all equal\n",
      "they are all equal\n",
      "they are all equal\n",
      "they are all equal\n",
      "they are all equal\n",
      "they are all equal\n",
      "they are all equal\n",
      "they are all equal\n",
      "they are all equal\n",
      "they are all equal\n",
      "they are all equal\n",
      "they are all equal\n",
      "they are all equal\n",
      "they are all equal\n",
      "they are all equal\n",
      "they are all equal\n",
      "they are all equal\n",
      "they are all equal\n",
      "they are all equal\n",
      "they are all equal\n",
      "they are all equal\n",
      "they are all equal\n",
      "they are all equal\n",
      "they are all equal\n",
      "they are all equal\n",
      "they are all equal\n",
      "they are all equal\n",
      "they are all equal\n",
      "they are all equal\n",
      "they are all equal\n",
      "they are all equal\n",
      "they are all equal\n",
      "they are all equal\n",
      "they are all equal\n",
      "they are all equal\n",
      "they are all equal\n",
      "they are all equal\n",
      "they are all equal\n",
      "they are all equal\n",
      "they are all equal\n",
      "they are all equal\n",
      "they are all equal\n",
      "they are all equal\n",
      "they are all equal\n",
      "they are all equal\n",
      "they are all equal\n",
      "they are all equal\n",
      "they are all equal\n",
      "they are all equal\n",
      "they are all equal\n",
      "they are all equal\n",
      "they are all equal\n",
      "they are all equal\n",
      "they are all equal\n",
      "they are all equal\n",
      "they are all equal\n",
      "they are all equal\n",
      "they are all equal\n",
      "they are all equal\n",
      "they are all equal\n",
      "they are all equal\n",
      "they are all equal\n",
      "they are all equal\n",
      "they are all equal\n",
      "they are all equal\n",
      "they are all equal\n",
      "they are all equal\n",
      "they are all equal\n",
      "they are all equal\n",
      "they are all equal\n",
      "they are all equal\n",
      "they are all equal\n",
      "they are all equal\n",
      "they are all equal\n",
      "they are all equal\n",
      "they are all equal\n",
      "they are all equal\n",
      "they are all equal\n",
      "they are all equal\n",
      "they are all equal\n",
      "they are all equal\n",
      "they are all equal\n",
      "they are all equal\n",
      "they are all equal\n",
      "they are all equal\n",
      "they are all equal\n",
      "they are all equal\n",
      "they are all equal\n",
      "they are all equal\n",
      "they are all equal\n",
      "they are all equal\n",
      "they are all equal\n",
      "they are all equal\n",
      "they are all equal\n",
      "they are all equal\n",
      "they are all equal\n",
      "they are all equal\n",
      "they are all equal\n",
      "they are all equal\n",
      "they are all equal\n",
      "they are all equal\n",
      "they are all equal\n",
      "they are all equal\n",
      "they are all equal\n",
      "they are all equal\n",
      "they are all equal\n",
      "they are all equal\n",
      "they are all equal\n",
      "they are all equal\n",
      "they are all equal\n",
      "they are all equal\n",
      "they are all equal\n",
      "they are all equal\n",
      "they are all equal\n",
      "they are all equal\n",
      "they are all equal\n",
      "they are all equal\n",
      "they are all equal\n",
      "they are all equal\n",
      "they are all equal\n",
      "they are all equal\n",
      "they are all equal\n",
      "they are all equal\n",
      "they are all equal\n",
      "they are all equal\n",
      "they are all equal\n",
      "they are all equal\n",
      "they are all equal\n",
      "they are all equal\n",
      "they are all equal\n",
      "they are all equal\n",
      "they are all equal\n",
      "they are all equal\n",
      "they are all equal\n",
      "they are all equal\n",
      "they are all equal\n",
      "they are all equal\n",
      "they are all equal\n",
      "they are all equal\n",
      "they are all equal\n",
      "they are all equal\n",
      "they are all equal\n",
      "they are all equal\n",
      "they are all equal\n",
      "they are all equal\n",
      "they are all equal\n",
      "they are all equal\n",
      "they are all equal\n",
      "they are all equal\n",
      "they are all equal\n",
      "they are all equal\n",
      "they are all equal\n",
      "they are all equal\n",
      "they are all equal\n",
      "they are all equal\n",
      "they are all equal\n",
      "they are all equal\n",
      "they are all equal\n",
      "they are all equal\n",
      "they are all equal\n",
      "they are all equal\n",
      "they are all equal\n",
      "they are all equal\n",
      "they are all equal\n",
      "they are all equal\n",
      "they are all equal\n",
      "they are all equal\n",
      "they are all equal\n",
      "they are all equal\n",
      "they are all equal\n",
      "they are all equal\n",
      "they are all equal\n",
      "they are all equal\n",
      "they are all equal\n",
      "they are all equal\n",
      "they are all equal\n",
      "they are all equal\n",
      "they are all equal\n",
      "they are all equal\n",
      "they are all equal\n",
      "they are all equal\n",
      "they are all equal\n",
      "they are all equal\n",
      "they are all equal\n",
      "they are all equal\n",
      "they are all equal\n",
      "they are all equal\n",
      "they are all equal\n",
      "they are all equal\n",
      "they are all equal\n",
      "they are all equal\n",
      "they are all equal\n",
      "they are all equal\n",
      "they are all equal\n",
      "they are all equal\n",
      "they are all equal\n",
      "they are all equal\n",
      "they are all equal\n",
      "they are all equal\n",
      "they are all equal\n",
      "they are all equal\n",
      "they are all equal\n",
      "they are all equal\n",
      "they are all equal\n",
      "they are all equal\n",
      "they are all equal\n",
      "they are all equal\n",
      "they are all equal\n",
      "they are all equal\n",
      "they are all equal\n",
      "they are all equal\n",
      "they are all equal\n",
      "they are all equal\n",
      "they are all equal\n",
      "they are all equal\n",
      "they are all equal\n",
      "they are all equal\n",
      "they are all equal\n",
      "they are all equal\n",
      "they are all equal\n",
      "they are all equal\n",
      "they are all equal\n",
      "they are all equal\n",
      "they are all equal\n",
      "they are all equal\n",
      "they are all equal\n",
      "they are all equal\n",
      "they are all equal\n",
      "they are all equal\n",
      "they are all equal\n",
      "they are all equal\n",
      "they are all equal\n",
      "they are all equal\n",
      "they are all equal\n",
      "they are all equal\n",
      "they are all equal\n",
      "they are all equal\n",
      "they are all equal\n",
      "they are all equal\n",
      "they are all equal\n",
      "they are all equal\n",
      "they are all equal\n",
      "they are all equal\n",
      "they are all equal\n",
      "they are all equal\n",
      "they are all equal\n",
      "they are all equal\n",
      "they are all equal\n",
      "they are all equal\n",
      "they are all equal\n",
      "they are all equal\n",
      "they are all equal\n",
      "they are all equal\n",
      "they are all equal\n",
      "they are all equal\n",
      "they are all equal\n",
      "they are all equal\n",
      "they are all equal\n",
      "they are all equal\n",
      "they are all equal\n",
      "they are all equal\n",
      "they are all equal\n",
      "they are all equal\n",
      "they are all equal\n",
      "they are all equal\n",
      "they are all equal\n",
      "they are all equal\n",
      "they are all equal\n",
      "they are all equal\n",
      "they are all equal\n",
      "they are all equal\n",
      "they are all equal\n",
      "they are all equal\n",
      "they are all equal\n",
      "they are all equal\n",
      "they are all equal\n",
      "they are all equal\n",
      "they are all equal\n",
      "they are all equal\n",
      "they are all equal\n",
      "they are all equal\n",
      "they are all equal\n",
      "they are all equal\n",
      "they are all equal\n",
      "they are all equal\n",
      "they are all equal\n",
      "they are all equal\n",
      "they are all equal\n",
      "they are all equal\n",
      "they are all equal\n",
      "they are all equal\n",
      "they are all equal\n",
      "they are all equal\n",
      "they are all equal\n",
      "they are all equal\n",
      "they are all equal\n",
      "they are all equal\n",
      "they are all equal\n",
      "they are all equal\n",
      "they are all equal\n",
      "they are all equal\n",
      "they are all equal\n",
      "they are all equal\n",
      "they are all equal\n",
      "they are all equal\n",
      "they are all equal\n",
      "they are all equal\n"
     ]
    }
   ],
   "source": [
    "for i in range(len(mask_labeled_full_modified)):\n",
    "    if not np.all(mask_labeled_full_modified[i] == mask_labeled_tissue[i]):\n",
    "        print(i)\n",
    "    else:\n",
    "        print(\"they are all equal\")\n",
    "    "
   ]
  },
  {
   "cell_type": "code",
   "execution_count": null,
   "metadata": {},
   "outputs": [],
   "source": []
  }
 ],
 "metadata": {
  "kernelspec": {
   "display_name": "Python 3",
   "language": "python",
   "name": "python3"
  },
  "language_info": {
   "codemirror_mode": {
    "name": "ipython",
    "version": 3
   },
   "file_extension": ".py",
   "mimetype": "text/x-python",
   "name": "python",
   "nbconvert_exporter": "python",
   "pygments_lexer": "ipython3",
   "version": "3.6.4"
  }
 },
 "nbformat": 4,
 "nbformat_minor": 2
}
