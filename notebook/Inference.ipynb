{
 "cells": [
  {
   "cell_type": "code",
   "execution_count": 1,
   "metadata": {},
   "outputs": [
    {
     "name": "stderr",
     "output_type": "stream",
     "text": [
      "/home/renjie/anaconda3/lib/python3.6/site-packages/h5py/__init__.py:36: FutureWarning: Conversion of the second argument of issubdtype from `float` to `np.floating` is deprecated. In future, it will be treated as `np.float64 == np.dtype(float).type`.\n",
      "  from ._conv import register_converters as _register_converters\n",
      "Using TensorFlow backend.\n"
     ]
    }
   ],
   "source": [
    "import os\n",
    "import numpy as np\n",
    "import json\n",
    "import pandas as pd\n",
    "from scipy.misc import imread\n",
    "\n",
    "import keras\n",
    "from keras.models import Model\n",
    "from keras.layers import Conv2D, UpSampling2D, MaxPooling2D, Dropout, Cropping2D, Input, merge\n",
    "from keras.optimizers import SGD, Adam\n",
    "from keras.callbacks import ModelCheckpoint, LearningRateScheduler, TensorBoard\n",
    "from keras import backend as K\n",
    "from keras.utils import to_categorical\n",
    "\n",
    "# from metrics import f1 as f1_score\n",
    "\n",
    "\n",
    "def UNet(filters_dims, activation='relu', kernel_initializer='glorot_uniform', padding='same'):\n",
    "    inputs = Input((480, 640, 3))\n",
    "    new_inputs = inputs\n",
    "    conv_layers = []\n",
    "    # Encoding Phase\n",
    "    for i in range(len(filters_dims) - 1):\n",
    "        conv = Conv2D(filters_dims[i], 3, activation=activation, padding=padding,\n",
    "                      kernel_initializer=kernel_initializer)(new_inputs)\n",
    "        conv = Conv2D(filters_dims[i], 3, activation=activation, padding=padding,\n",
    "                      kernel_initializer=kernel_initializer)(conv)\n",
    "        conv_layers.append(conv)\n",
    "        new_inputs = MaxPooling2D(pool_size=(2, 2))(conv)\n",
    "        # op = BatchNormalization()(op)\n",
    "\n",
    "    # middle phase\n",
    "    conv = Conv2D(filters_dims[-1], 3, activation=activation, padding=padding,\n",
    "                  kernel_initializer=kernel_initializer)(new_inputs)\n",
    "    conv = Conv2D(filters_dims[-1], 3, activation=activation, padding=padding,\n",
    "                  kernel_initializer=kernel_initializer)(conv)\n",
    "    new_inputs = Dropout(0.5)(conv)\n",
    "\n",
    "    filters_dims.reverse()\n",
    "    conv_layers.reverse()\n",
    "\n",
    "    # Decoding Phase\n",
    "    for i in range(1, len(filters_dims)):\n",
    "        up = Conv2D(filters_dims[i], 3, activation=activation, padding=padding,\n",
    "                    kernel_initializer=kernel_initializer)(UpSampling2D(size=(2, 2))(new_inputs))\n",
    "        concat = merge([conv_layers[i-1], up], mode='concat', concat_axis=3)\n",
    "        conv = Conv2D(filters_dims[i], 3, activation=activation, padding=padding,\n",
    "                      kernel_initializer=kernel_initializer)(concat)\n",
    "        new_inputs = Conv2D(filters_dims[i], 3, activation=activation, padding=padding,\n",
    "                            kernel_initializer=kernel_initializer)(conv)\n",
    "    outputs = Conv2D(2, 1, activation='softmax', padding='same',\n",
    "                     kernel_initializer='glorot_uniform')(new_inputs)\n",
    "\n",
    "    model = Model(input=inputs, output=outputs, name='UNet')\n",
    "    model.compile(optimizer=Adam(lr=1e-4),\n",
    "                  loss='categorical_crossentropy',\n",
    "                  metrics=['accuracy', 'mse', f1_score])\n",
    "    return model\n",
    "\n",
    "def f1_score(y_true, y_pred):\n",
    "    '''\n",
    "    Calculates the F1 by using keras.backend\n",
    "    '''\n",
    "    true_positives = K.sum(K.round(K.clip(y_true * y_pred, 0, 1)))\n",
    "    possible_positives = K.sum(K.round(K.clip(y_true, 0, 1)))\n",
    "    predicted_positives = K.sum(K.round(K.clip(y_pred, 0, 1)))\n",
    "\n",
    "    def recall(y_true, y_pred):\n",
    "        \"\"\"Recall metric.\n",
    "\n",
    "        Only computes a batch-wise average of recall.\n",
    "\n",
    "        Computes the recall, a metric for multi-label classification of\n",
    "        how many relevant items are selected.\n",
    "        \"\"\"\n",
    "        recall = true_positives / (possible_positives + K.epsilon())\n",
    "        return recall\n",
    "\n",
    "    def precision(y_true, y_pred):\n",
    "        \"\"\"Precision metric.\n",
    "\n",
    "        Only computes a batch-wise average of precision.\n",
    "\n",
    "        Computes the precision, a metric for multi-label classification of\n",
    "        how many selected items are relevant.\n",
    "        \"\"\"\n",
    "        precision = true_positives / (predicted_positives + K.epsilon())\n",
    "        return precision\n",
    "\n",
    "    precision = precision(y_true, y_pred)\n",
    "    recall = recall(y_true, y_pred)\n",
    "    return 2 * ((precision * recall) / (precision + recall))\n",
    "\n"
   ]
  },
  {
   "cell_type": "code",
   "execution_count": 2,
   "metadata": {},
   "outputs": [],
   "source": [
    "cfg = {\n",
    "    \"filters_dims\" : [64, 128, 256, 512],\n",
    "    \"activation\" : \"relu\",\n",
    "    \"kernel_initializer\" : \"glorot_uniform\",\n",
    "    \"padding\" : \"same\"\n",
    "}\n"
   ]
  },
  {
   "cell_type": "code",
   "execution_count": 3,
   "metadata": {},
   "outputs": [
    {
     "name": "stderr",
     "output_type": "stream",
     "text": [
      "/home/renjie/anaconda3/lib/python3.6/site-packages/ipykernel_launcher.py:46: UserWarning: The `merge` function is deprecated and will be removed after 08/2017. Use instead layers from `keras.layers.merge`, e.g. `add`, `concatenate`, etc.\n",
      "/home/renjie/anaconda3/lib/python3.6/site-packages/keras/legacy/layers.py:465: UserWarning: The `Merge` layer is deprecated and will be removed after 08/2017. Use instead layers from `keras.layers.merge`, e.g. `add`, `concatenate`, etc.\n",
      "  name=name)\n",
      "/home/renjie/anaconda3/lib/python3.6/site-packages/ipykernel_launcher.py:54: UserWarning: Update your `Model` call to the Keras 2 API: `Model(name=\"UNet\", inputs=Tensor(\"in..., outputs=Tensor(\"co...)`\n"
     ]
    }
   ],
   "source": [
    "model_1 = UNet(filters_dims=cfg['filters_dims'],\n",
    "             activation='relu', \n",
    "             kernel_initializer='glorot_uniform', \n",
    "             padding='same')\n",
    "\n",
    "model_2 = UNet(filters_dims=cfg['filters_dims'],\n",
    "             activation='relu', \n",
    "             kernel_initializer='glorot_uniform', \n",
    "             padding='same')"
   ]
  },
  {
   "cell_type": "code",
   "execution_count": 10,
   "metadata": {},
   "outputs": [
    {
     "data": {
      "text/plain": [
       "('/home/renjie/Documents/GitHub/CascadedFCN/notebook/../weights/UNet.77-0.01.hdf5',\n",
       " '/home/renjie/Documents/GitHub/CascadedFCN/notebook/../weights/UNet.35-0.20.hdf5')"
      ]
     },
     "execution_count": 10,
     "metadata": {},
     "output_type": "execute_result"
    }
   ],
   "source": [
    "weights_path = os.path.join(os.getcwd(),'..','weights')\n",
    "weights_names = os.listdir(weights_path)\n",
    "best_train_weight = os.path.join(weights_path, weights_names[0])\n",
    "best_val_weight = os.path.join(weights_path, weights_names[1])\n",
    "best_train_weight, best_val_weight"
   ]
  },
  {
   "cell_type": "code",
   "execution_count": 5,
   "metadata": {},
   "outputs": [],
   "source": [
    "data_path = os.path.join(os.getcwd(), '..', 'data', 'Augments', 'val')\n",
    "image_path = os.path.join(data_path, 'Original')\n",
    "mask_path = os.path.join(data_path, 'SegMask_Wound_Bg')\n",
    "\n",
    "# image_names = os.listdir(image_path)\n",
    "# mask_names = os.listdir(mask_path)"
   ]
  },
  {
   "cell_type": "code",
   "execution_count": 6,
   "metadata": {},
   "outputs": [],
   "source": [
    "seed = 1"
   ]
  },
  {
   "cell_type": "code",
   "execution_count": 7,
   "metadata": {},
   "outputs": [],
   "source": [
    "from keras.preprocessing.image import ImageDataGenerator"
   ]
  },
  {
   "cell_type": "code",
   "execution_count": 8,
   "metadata": {},
   "outputs": [
    {
     "name": "stdout",
     "output_type": "stream",
     "text": [
      "Found 200 images belonging to 1 classes.\n",
      "Found 200 images belonging to 1 classes.\n"
     ]
    }
   ],
   "source": [
    "image_datagen = ImageDataGenerator()\n",
    "mask_datagen = ImageDataGenerator()\n",
    "\n",
    "image_generator = image_datagen.flow_from_directory(image_path,\n",
    "                                                        (480, 640),\n",
    "                                                        class_mode=None,\n",
    "                                                        batch_size=1,\n",
    "                                                        seed=seed)\n",
    "mask_generator = mask_datagen.flow_from_directory(mask_path,\n",
    "                                                  (480, 640),\n",
    "                                                  color_mode='grayscale',\n",
    "                                                      classes=None,\n",
    "                                                      class_mode=None,\n",
    "                                                      batch_size=1,\n",
    "                                                      seed=seed)\n",
    "test_gen = zip(image_generator, mask_generator)"
   ]
  },
  {
   "cell_type": "code",
   "execution_count": 14,
   "metadata": {},
   "outputs": [],
   "source": [
    "model_1.load_weights(best_train_weight)\n",
    "# model_2.load_weights(best_val_weight)"
   ]
  },
  {
   "cell_type": "code",
   "execution_count": 18,
   "metadata": {},
   "outputs": [
    {
     "data": {
      "text/plain": [
       "<function matplotlib.pyplot.show>"
      ]
     },
     "execution_count": 18,
     "metadata": {},
     "output_type": "execute_result"
    },
    {
     "data": {
      "image/png": "[encoded data removed]",
      "text/plain": [
       "<Figure size 432x288 with 4 Axes>"
      ]
     },
     "metadata": {},
     "output_type": "display_data"
    }
   ],
   "source": [
    "import matplotlib.pyplot as plt\n",
    "\n",
    "(test_image, test_mask) = next(test_gen)\n",
    "test_image = test_image.reshape(480,640,3)\n",
    "test_mask = test_mask.reshape(480,640)\n",
    "\n",
    "pred_1 = model_1.predict(np.expand_dims(test_image, axis = 0))\n",
    "pred_1 = pred_1.reshape(480,640,2)\n",
    "pred_Wound_1 = np.round(pred_1[:,:,1])\n",
    "# pred_Wound = pred[:,:,1]\n",
    "\n",
    "\n",
    "fig, ax = plt.subplots(2, 2)\n",
    "\n",
    "ax[0, 0].imshow(test_image.astype('uint8'))\n",
    "ax[0, 0].set_axis_off()\n",
    "ax[0, 0].set_title('Test_Image')\n",
    "\n",
    "ax[0, 1].matshow(test_mask)\n",
    "ax[0, 1].set_axis_off()\n",
    "ax[0, 1].set_title('Ground Truth Seg')\n",
    "\n",
    "ax[1, 0].matshow(pred_Wound_1)\n",
    "ax[1, 0].set_axis_off()\n",
    "ax[1, 0].set_title('Predicted Seg Model 1')\n",
    "\n",
    "# ax[1, 1].matshow(pred_Wound_2)\n",
    "ax[1, 1].set_axis_off()\n",
    "# ax[1, 1].set_title('Predicted Seg Model 2')\n",
    "plt.show"
   ]
  },
  {
   "cell_type": "code",
   "execution_count": null,
   "metadata": {},
   "outputs": [],
   "source": []
  },
  {
   "cell_type": "code",
   "execution_count": null,
   "metadata": {},
   "outputs": [],
   "source": [
    "pred = model.predict(np.expand_dims(test_image, axis = 0))"
   ]
  },
  {
   "cell_type": "code",
   "execution_count": null,
   "metadata": {},
   "outputs": [],
   "source": [
    "pred = pred.reshape(480,640,2)"
   ]
  },
  {
   "cell_type": "code",
   "execution_count": null,
   "metadata": {},
   "outputs": [],
   "source": [
    "pred_BG = pred[:,:,0]\n",
    "pred_Wound = pred[:,:,1]"
   ]
  },
  {
   "cell_type": "code",
   "execution_count": null,
   "metadata": {},
   "outputs": [],
   "source": [
    "import matplotlib.pyplot as plt\n",
    "plt.imshow(pred_Wound)"
   ]
  },
  {
   "cell_type": "code",
   "execution_count": null,
   "metadata": {},
   "outputs": [],
   "source": [
    "plt.imshow(test_mask)"
   ]
  },
  {
   "cell_type": "code",
   "execution_count": null,
   "metadata": {},
   "outputs": [],
   "source": [
    "plt.imshow(test_image.astype('uint8'))"
   ]
  }
 ],
 "metadata": {
  "kernelspec": {
   "display_name": "Python 3",
   "language": "python",
   "name": "python3"
  },
  "language_info": {
   "codemirror_mode": {
    "name": "ipython",
    "version": 3
   },
   "file_extension": ".py",
   "mimetype": "text/x-python",
   "name": "python",
   "nbconvert_exporter": "python",
   "pygments_lexer": "ipython3",
   "version": "3.6.4"
  }
 },
 "nbformat": 4,
 "nbformat_minor": 2
}
